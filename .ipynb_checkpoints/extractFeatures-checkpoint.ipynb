{
 "cells": [
  {
   "cell_type": "code",
   "execution_count": 175,
   "metadata": {},
   "outputs": [],
   "source": [
    "teleDir = os.path.join(os.getcwd(),\"External Data/parkinsons_updrs.data\")"
   ]
  },
  {
   "cell_type": "code",
   "execution_count": 176,
   "metadata": {},
   "outputs": [],
   "source": [
    "tele = pd.read_csv(teleDir)\n",
    "tele.to_csv(output_tele, index=False)"
   ]
  },
  {
   "cell_type": "code",
   "execution_count": 27,
   "metadata": {},
   "outputs": [],
   "source": [
    "import os\n",
    "import python_speech_features\n",
    "from python_speech_features import mfcc\n",
    "from python_speech_features import logfbank\n",
    "import scipy.io.wavfile as wav\n",
    "import librosa\n",
    "import numpy as np\n",
    "import math\n",
    "import pandas as pd\n",
    "import matplotlib.pyplot as plt"
   ]
  },
  {
   "cell_type": "code",
   "execution_count": 28,
   "metadata": {},
   "outputs": [],
   "source": [
    "input_tele = os.path.join(os.getcwd(),\"External Data/tele.csv\")\n",
    "tele = pd.read_csv(input_tele)"
   ]
  },
  {
   "cell_type": "code",
   "execution_count": 22,
   "metadata": {},
   "outputs": [],
   "source": [
    "output_tele = os.path.join(os.getcwd(),\"External Data/tele.csv\")"
   ]
  },
  {
   "cell_type": "code",
   "execution_count": 26,
   "metadata": {},
   "outputs": [
    {
     "name": "stdout",
     "output_type": "stream",
     "text": [
      "[  -2.     -2.     -2.     -2.     -2.     -2.      4.      4.      4.\n",
      "    4.      4.      4.      5.5     5.5     5.5     5.5     5.5     5.5\n",
      "    8.      8.      8.      8.      8.      8.     28.     28.     28.\n",
      "   28.     28.     28.   -100.   -100.   -100.   -100.   -100.   -100.\n",
      "    2.      2.      2.      2.      2.      2.   -100.   -100.   -100.\n",
      " -100.   -100.   -100.   -100.   -100.   -100.   -100.   -100.   -100.\n",
      "   14.     14.     14.     14.     14.     14.   -100.   -100.   -100.\n",
      " -100.   -100.   -100.     11.     11.     11.     11.     11.     11.\n",
      "    7.      7.      7.      7.      7.      7.     -1.5    -1.5    -1.5\n",
      "   -1.5    -1.5    -1.5     5.      5.      5.      5.      5.      5.\n",
      "    5.      4.5     4.5     4.5     4.5     4.5     4.5    -2.5    -2.5\n",
      "   -2.5    -2.5    -2.5    -2.5    23.     23.     23.     23.     23.\n",
      "   23.      1.5     1.5     1.5     1.5     1.5     1.5    15.     15.\n",
      "   15.     15.     15.     15.     15.     -3.     -3.     -3.     -3.\n",
      "   -3.     -3.      4.      4.      4.      4.      4.      4.      3.\n",
      "    3.      3.      3.      3.      3.     -0.25   -0.25   -0.25   -0.25\n",
      "   -0.25   -0.25    7.      7.      7.      7.      7.      7.      7.\n",
      "    5.      5.      5.      5.      5.      5.      2.      2.      2.\n",
      "    2.      2.      2.   -100.   -100.   -100.   -100.   -100.   -100.\n",
      " -100.   -100.   -100.   -100.   -100.   -100.     -0.5    -0.5    -0.5\n",
      "   -0.5    -0.5    -0.5  -100.   -100.   -100.   -100.   -100.   -100.\n",
      " -100.   -100.   -100.   -100.   -100.   -100.  ]\n"
     ]
    },
    {
     "data": {
      "text/plain": [
       "(array([ 48.,   0., 135.,  12.,   0.]),\n",
       " array([-100.,  -60.,  -20.,   20.,   60.,  100.]),\n",
       " <BarContainer object of 5 artists>)"
      ]
     },
     "execution_count": 26,
     "metadata": {},
     "output_type": "execute_result"
    },
    {
     "data": {
      "image/png": "[encoded data removed]",
      "text/plain": [
       "<Figure size 432x288 with 1 Axes>"
      ]
     },
     "metadata": {
      "needs_background": "light"
     },
     "output_type": "display_data"
    }
   ],
   "source": [
    "d = data['time']\n",
    "d = np.asarray(d)\n",
    "print (d)\n",
    "range = (-100, 100)\n",
    "bins = 5\n",
    "plt.hist(d,bins,range,color='green',histtype='bar',rwidth = 0.8)"
   ]
  },
  {
   "cell_type": "code",
   "execution_count": 61,
   "metadata": {},
   "outputs": [
    {
     "name": "stdout",
     "output_type": "stream",
     "text": [
      "<class 'pandas.core.frame.DataFrame'>\n",
      "RangeIndex: 6070 entries, 0 to 6069\n",
      "Data columns (total 18 columns):\n",
      " #   Column         Non-Null Count  Dtype  \n",
      "---  ------         --------------  -----  \n",
      " 0   Subject#       6070 non-null   object \n",
      " 1   Jitter(%)      6070 non-null   float64\n",
      " 2   Jitter(Abs)    6070 non-null   float64\n",
      " 3   Jitter:RAP     6070 non-null   float64\n",
      " 4   Jitter:PPQ5    6070 non-null   float64\n",
      " 5   Jitter:DDP     6070 non-null   float64\n",
      " 6   Shimmer        6070 non-null   float64\n",
      " 7   Shimmer(dB)    6070 non-null   float64\n",
      " 8   Shimmer:APQ3   6070 non-null   float64\n",
      " 9   Shimmer:APQ5   6070 non-null   float64\n",
      " 10  Shimmer:APQ11  6070 non-null   float64\n",
      " 11  Shimmer:DDA    6070 non-null   float64\n",
      " 12  NHR            6070 non-null   float64\n",
      " 13  HNR            6070 non-null   float64\n",
      " 14  RPDE           6070 non-null   float64\n",
      " 15  DFA            6070 non-null   float64\n",
      " 16  PPE            6070 non-null   float64\n",
      " 17  status         6070 non-null   int64  \n",
      "dtypes: float64(16), int64(1), object(1)\n",
      "memory usage: 853.7+ KB\n"
     ]
    }
   ],
   "source": [
    "output.info()\n",
    "output.to_csv(output_dir, index=False)"
   ]
  },
  {
   "cell_type": "code",
   "execution_count": null,
   "metadata": {},
   "outputs": [],
   "source": []
  }
 ],
 "metadata": {
  "kernelspec": {
   "display_name": "pd_model",
   "language": "python",
   "name": "pd_model"
  },
  "language_info": {
   "codemirror_mode": {
    "name": "ipython",
    "version": 3
   },
   "file_extension": ".py",
   "mimetype": "text/x-python",
   "name": "python",
   "nbconvert_exporter": "python",
   "pygments_lexer": "ipython3",
   "version": "3.8.10"
  }
 },
 "nbformat": 4,
 "nbformat_minor": 4
}
