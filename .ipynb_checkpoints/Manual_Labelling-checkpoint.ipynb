{
 "cells": [
  {
   "cell_type": "code",
   "execution_count": 186,
   "metadata": {},
   "outputs": [],
   "source": [
    "from utils import Status, EnumEncoder, load_config, as_enum, open_files\n",
    "from pprint import pprint\n",
    "import yaml, json\n",
    "from IPython.display import JSON"
   ]
  },
  {
   "cell_type": "code",
   "execution_count": 187,
   "metadata": {},
   "outputs": [],
   "source": [
    "with open('JSONDatabase/link_db_copy.json') as fp:\n",
    "    link_db_copy = json.load(fp, object_hook=as_enum)\n",
    "    \n",
    "with open('JSONDatabase/link_db.json') as fp:\n",
    "    link_db = json.load(fp, object_hook=as_enum)"
   ]
  },
  {
   "cell_type": "code",
   "execution_count": 188,
   "metadata": {},
   "outputs": [],
   "source": [
    "person_name = 'Micheal J Fox'\n",
    "database = link_db_copy[person_name]\n",
    "database_original = link_db[person_name]"
   ]
  },
  {
   "cell_type": "code",
   "execution_count": 189,
   "metadata": {},
   "outputs": [],
   "source": [
    "def make_link_db(response_dict,filepath=None):\n",
    "    path = filepath if filepath!=None else 'JSONDatabase/link_db_copy.json'\n",
    "    print (path)\n",
    "    with open(path,'w+') as fp:\n",
    "        fp.write(json.dumps(response_dict, cls = EnumEncoder))"
   ]
  },
  {
   "cell_type": "code",
   "execution_count": 190,
   "metadata": {},
   "outputs": [],
   "source": [
    "def find(database, url):\n",
    "    for count,item in enumerate(database):\n",
    "        if (item['url'] == url):\n",
    "            return count"
   ]
  },
  {
   "cell_type": "code",
   "execution_count": 191,
   "metadata": {},
   "outputs": [],
   "source": [
    "def changeTuple(database,item,data,date=None):\n",
    "    database[item]['status'] = Status.VERIFIED_OK\n",
    "    if data:\n",
    "        database[item]['timings'] = data\n",
    "    if date:\n",
    "        database[item]['date'] = date\n",
    "    return database"
   ]
  },
  {
   "cell_type": "code",
   "execution_count": 140,
   "metadata": {},
   "outputs": [
    {
     "name": "stdout",
     "output_type": "stream",
     "text": [
      "{'date': '2020-12-04',\n",
      " 'duration': 86.0,\n",
      " 'status': <Status.UNPROCESSED: 100>,\n",
      " 'title': \"Michael J. Fox's Amazing Response To A Twitter Troll | The Graham \"\n",
      "          'Norton Show',\n",
      " 'url': 'https://www.youtube.com/watch?v=MTu-0iflj1Y'}\n"
     ]
    }
   ],
   "source": [
    "for count,val in enumerate(database):    \n",
    "    if val['status'] == Status.UNPROCESSED:\n",
    "        pprint(val)\n",
    "        break"
   ]
  },
  {
   "cell_type": "code",
   "execution_count": 18,
   "metadata": {},
   "outputs": [],
   "source": [
    "item = find(database,url=\"https://www.youtube.com/watch?v=MTu-0iflj1Y\")\n",
    "database = changeTuple(database,item,[\"\"],'2001-05-10')"
   ]
  },
  {
   "cell_type": "code",
   "execution_count": null,
   "metadata": {},
   "outputs": [],
   "source": []
  },
  {
   "cell_type": "code",
   "execution_count": null,
   "metadata": {},
   "outputs": [],
   "source": []
  },
  {
   "cell_type": "code",
   "execution_count": null,
   "metadata": {},
   "outputs": [],
   "source": []
  },
  {
   "cell_type": "code",
   "execution_count": 19,
   "metadata": {},
   "outputs": [
    {
     "name": "stdout",
     "output_type": "stream",
     "text": [
      "JSONDatabase/link_db_copy.json\n"
     ]
    }
   ],
   "source": [
    "# MAKE THE TEMP CHANGES\n",
    "link_db_copy[person_name] = database\n",
    "make_link_db(link_db_copy)"
   ]
  },
  {
   "cell_type": "code",
   "execution_count": null,
   "metadata": {},
   "outputs": [],
   "source": []
  },
  {
   "cell_type": "code",
   "execution_count": null,
   "metadata": {},
   "outputs": [],
   "source": []
  },
  {
   "cell_type": "code",
   "execution_count": null,
   "metadata": {},
   "outputs": [],
   "source": []
  },
  {
   "cell_type": "code",
   "execution_count": 66,
   "metadata": {},
   "outputs": [
    {
     "name": "stdout",
     "output_type": "stream",
     "text": [
      "JSONDatabase/link_db_copy.json\n"
     ]
    }
   ],
   "source": [
    "# REVERT THE RECENT CHANGE\n",
    "database[item] = database_original[item]\n",
    "link_db_copy[person_name] = database\n",
    "make_link_db(link_db_copy)"
   ]
  },
  {
   "cell_type": "code",
   "execution_count": null,
   "metadata": {},
   "outputs": [],
   "source": []
  },
  {
   "cell_type": "code",
   "execution_count": null,
   "metadata": {},
   "outputs": [],
   "source": []
  },
  {
   "cell_type": "code",
   "execution_count": null,
   "metadata": {},
   "outputs": [],
   "source": []
  },
  {
   "cell_type": "code",
   "execution_count": 21,
   "metadata": {},
   "outputs": [
    {
     "name": "stdout",
     "output_type": "stream",
     "text": [
      "JSONDatabase/link_db.json\n"
     ]
    }
   ],
   "source": [
    "# PERSIST THE CHANGES GLOBALLY\n",
    "link_db = link_db_copy\n",
    "make_link_db(link_db,'JSONDatabase/link_db.json')"
   ]
  },
  {
   "cell_type": "code",
   "execution_count": 93,
   "metadata": {},
   "outputs": [],
   "source": []
  },
  {
   "cell_type": "code",
   "execution_count": 193,
   "metadata": {},
   "outputs": [
    {
     "name": "stdout",
     "output_type": "stream",
     "text": [
      "https://www.youtube.com/watch?v=DShQytVKeSA\n",
      "https://www.youtube.com/watch?v=PEDVKpbi48s\n",
      "https://www.youtube.com/watch?v=fmkZAV4bjvE\n",
      "https://www.youtube.com/watch?v=gcQ3LSt5P1Q\n",
      "https://www.youtube.com/watch?v=0e90IiapIZw\n",
      "https://www.youtube.com/watch?v=5OLzuUVfoJ8\n",
      "https://www.youtube.com/watch?v=_XXLbGT_DfU\n",
      "https://www.youtube.com/watch?v=gojSNEhRmEQ\n",
      "https://www.youtube.com/watch?v=dGeMX_h67mI\n",
      "https://www.youtube.com/watch?v=v8JCzz0tCds\n",
      "https://www.youtube.com/watch?v=QeMw1RhkAVQ\n",
      "https://www.youtube.com/watch?v=UYVTg1MKg9M\n",
      "https://www.youtube.com/watch?v=nysS3VmgI30\n",
      "https://www.youtube.com/watch?v=_Ee00HAhGrQ\n",
      "https://www.youtube.com/watch?v=-UywAapwWME\n",
      "https://www.youtube.com/watch?v=Aadus065C-4\n"
     ]
    }
   ],
   "source": [
    "total = 0\n",
    "for count,val in enumerate(database_original):\n",
    "    if val['status'] == Status.AUDIOSPLIT_PASS:\n",
    "        print (val['url'])\n",
    "        total += 1"
   ]
  },
  {
   "cell_type": "code",
   "execution_count": 184,
   "metadata": {},
   "outputs": [
    {
     "data": {
      "text/plain": [
       "16"
      ]
     },
     "execution_count": 184,
     "metadata": {},
     "output_type": "execute_result"
    }
   ],
   "source": [
    "total"
   ]
  },
  {
   "cell_type": "code",
   "execution_count": null,
   "metadata": {},
   "outputs": [],
   "source": []
  },
  {
   "cell_type": "code",
   "execution_count": null,
   "metadata": {},
   "outputs": [],
   "source": []
  },
  {
   "cell_type": "code",
   "execution_count": null,
   "metadata": {},
   "outputs": [],
   "source": []
  },
  {
   "cell_type": "code",
   "execution_count": 123,
   "metadata": {},
   "outputs": [
    {
     "name": "stdout",
     "output_type": "stream",
     "text": [
      "JSONDatabase/link_db.json\n"
     ]
    }
   ],
   "source": [
    "link_db[person_name] = database_original\n",
    "make_link_db(link_db,'JSONDatabase/link_db.json')"
   ]
  },
  {
   "cell_type": "code",
   "execution_count": null,
   "metadata": {},
   "outputs": [],
   "source": []
  }
 ],
 "metadata": {
  "kernelspec": {
   "display_name": "pd_model",
   "language": "python",
   "name": "pd_model"
  },
  "language_info": {
   "codemirror_mode": {
    "name": "ipython",
    "version": 3
   },
   "file_extension": ".py",
   "mimetype": "text/x-python",
   "name": "python",
   "nbconvert_exporter": "python",
   "pygments_lexer": "ipython3",
   "version": "3.8.8"
  }
 },
 "nbformat": 4,
 "nbformat_minor": 4
}
