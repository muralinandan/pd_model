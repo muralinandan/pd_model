{
 "cells": [
  {
   "cell_type": "code",
   "execution_count": 37,
   "metadata": {},
   "outputs": [],
   "source": [
    "from utils import Status, EnumEncoder, load_config, as_enum, open_files\n",
    "from pprint import pprint\n",
    "import yaml, json\n",
    "from IPython.display import JSON\n",
    "import chardet\n",
    "import datetime"
   ]
  },
  {
   "cell_type": "code",
   "execution_count": 69,
   "metadata": {},
   "outputs": [],
   "source": [
    "with open('JSONDatabase/link_db.json') as fp:\n",
    "    link_db = json.load(fp, object_hook=as_enum)\n",
    "    \n",
    "with open('JSONDatabase/link_db_copy.json') as fp:\n",
    "    link_db_copy = json.load(fp, object_hook=as_enum)"
   ]
  },
  {
   "cell_type": "code",
   "execution_count": 70,
   "metadata": {},
   "outputs": [],
   "source": [
    "person_name = 'Micheal J Fox'\n",
    "database_copy = link_db_copy[person_name]\n",
    "database_original = link_db[person_name]"
   ]
  },
  {
   "cell_type": "code",
   "execution_count": 71,
   "metadata": {},
   "outputs": [],
   "source": [
    "def make_link_db(response_dict,filepath=None):\n",
    "    path = filepath if filepath!=None else 'JSONDatabase/link_db_copy.json'\n",
    "    print (path)\n",
    "    with open(path,'w+') as fp:\n",
    "        fp.write(json.dumps(response_dict, cls = EnumEncoder))"
   ]
  },
  {
   "cell_type": "code",
   "execution_count": 72,
   "metadata": {},
   "outputs": [],
   "source": [
    "def find(database, url):\n",
    "    for count,item in enumerate(database):\n",
    "        if (item['url'] == url):\n",
    "            return count"
   ]
  },
  {
   "cell_type": "code",
   "execution_count": 73,
   "metadata": {},
   "outputs": [],
   "source": [
    "def changeTuple(database,item,data,date=None):\n",
    "    database[item]['status'] = Status.VERIFIED_OK\n",
    "    if data:\n",
    "        database[item]['timings'] = data\n",
    "    if date:\n",
    "        database[item]['date'] = date\n",
    "    return database"
   ]
  },
  {
   "cell_type": "code",
   "execution_count": 74,
   "metadata": {},
   "outputs": [],
   "source": [
    "for count,val in enumerate(database_original):    \n",
    "    if val['status'] == Status.UNPROCESSED:\n",
    "        pprint(val)\n",
    "        break"
   ]
  },
  {
   "cell_type": "code",
   "execution_count": 18,
   "metadata": {},
   "outputs": [],
   "source": [
    "item = find(database_copy,url=\"https://www.youtube.com/watch?v=MTu-0iflj1Y\")\n",
    "database_copy = changeTuple(database_copy,item,[\"\"],'2001-05-10')"
   ]
  },
  {
   "cell_type": "code",
   "execution_count": null,
   "metadata": {},
   "outputs": [],
   "source": []
  },
  {
   "cell_type": "code",
   "execution_count": null,
   "metadata": {},
   "outputs": [],
   "source": []
  },
  {
   "cell_type": "code",
   "execution_count": null,
   "metadata": {},
   "outputs": [],
   "source": []
  },
  {
   "cell_type": "code",
   "execution_count": 9,
   "metadata": {},
   "outputs": [
    {
     "name": "stdout",
     "output_type": "stream",
     "text": [
      "JSONDatabase/link_db_copy.json\n"
     ]
    }
   ],
   "source": [
    "# MAKE THE TEMP CHANGES\n",
    "link_db_copy[person_name] = database_copy\n",
    "make_link_db(link_db_copy)"
   ]
  },
  {
   "cell_type": "code",
   "execution_count": null,
   "metadata": {},
   "outputs": [],
   "source": []
  },
  {
   "cell_type": "code",
   "execution_count": null,
   "metadata": {},
   "outputs": [],
   "source": []
  },
  {
   "cell_type": "code",
   "execution_count": null,
   "metadata": {},
   "outputs": [],
   "source": []
  },
  {
   "cell_type": "code",
   "execution_count": 66,
   "metadata": {},
   "outputs": [
    {
     "name": "stdout",
     "output_type": "stream",
     "text": [
      "JSONDatabase/link_db_copy.json\n"
     ]
    }
   ],
   "source": [
    "# REVERT THE RECENT CHANGE\n",
    "database_copy[item] = database_original[item]\n",
    "link_db_copy[person_name] = database_copy\n",
    "make_link_db(link_db_copy)"
   ]
  },
  {
   "cell_type": "code",
   "execution_count": null,
   "metadata": {},
   "outputs": [],
   "source": []
  },
  {
   "cell_type": "code",
   "execution_count": null,
   "metadata": {},
   "outputs": [],
   "source": []
  },
  {
   "cell_type": "code",
   "execution_count": 10,
   "metadata": {},
   "outputs": [
    {
     "name": "stdout",
     "output_type": "stream",
     "text": [
      "JSONDatabase/link_db.json\n"
     ]
    }
   ],
   "source": [
    "# PERSIST THE CHANGES GLOBALLY\n",
    "link_db = link_db_copy\n",
    "make_link_db(link_db,'JSONDatabase/link_db.json')"
   ]
  },
  {
   "cell_type": "code",
   "execution_count": null,
   "metadata": {},
   "outputs": [],
   "source": []
  },
  {
   "cell_type": "code",
   "execution_count": null,
   "metadata": {},
   "outputs": [],
   "source": []
  },
  {
   "cell_type": "code",
   "execution_count": 123,
   "metadata": {},
   "outputs": [
    {
     "name": "stdout",
     "output_type": "stream",
     "text": [
      "JSONDatabase/link_db.json\n"
     ]
    }
   ],
   "source": [
    "link_db[person_name] = database_original\n",
    "make_link_db(link_db,'JSONDatabase/link_db.json')"
   ]
  },
  {
   "cell_type": "code",
   "execution_count": null,
   "metadata": {},
   "outputs": [],
   "source": []
  },
  {
   "cell_type": "code",
   "execution_count": null,
   "metadata": {},
   "outputs": [],
   "source": []
  },
  {
   "cell_type": "code",
   "execution_count": null,
   "metadata": {},
   "outputs": [],
   "source": [
    "### Removing extra entries for a person ###\n",
    "processed = list(filter(lambda num: num['status'] != Status.UNPROCESSED, database_original))\n",
    "database_original = processed\n",
    "link_db[person_name] = database_original\n",
    "make_link_db(link_db,'JSONDatabase/link_db.json')"
   ]
  },
  {
   "cell_type": "code",
   "execution_count": null,
   "metadata": {},
   "outputs": [],
   "source": []
  },
  {
   "cell_type": "code",
   "execution_count": null,
   "metadata": {},
   "outputs": [],
   "source": [
    "### Sorting the urls w.r.t the time ###\n",
    "date_format = \"%Y-%m-%d\"\n",
    "database_original = sorted(database_original, key=lambda x: datetime.datetime.strptime(x['date'], date_format))\n",
    "link_db[person_name] = database_original\n",
    "make_link_db(link_db,'JSONDatabase/link_db.json')"
   ]
  }
 ],
 "metadata": {
  "kernelspec": {
   "display_name": "pd_model",
   "language": "python",
   "name": "pd_model"
  },
  "language_info": {
   "codemirror_mode": {
    "name": "ipython",
    "version": 3
   },
   "file_extension": ".py",
   "mimetype": "text/x-python",
   "name": "python",
   "nbconvert_exporter": "python",
   "pygments_lexer": "ipython3",
   "version": "3.8.10"
  }
 },
 "nbformat": 4,
 "nbformat_minor": 4
}
